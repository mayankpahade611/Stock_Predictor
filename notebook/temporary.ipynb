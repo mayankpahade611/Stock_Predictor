{
 "cells": [
  {
   "cell_type": "code",
   "execution_count": 1,
   "id": "fc4540dd",
   "metadata": {},
   "outputs": [
    {
     "name": "stderr",
     "output_type": "stream",
     "text": [
      "C:\\Projects ML\\Stock_Predictor\\src\\data_fetcher.py:7: FutureWarning: YF.download() has changed argument auto_adjust default to True\n",
      "  data = yf.download(symbol, start=start_date, end=end_date)\n",
      "[*********************100%***********************]  1 of 1 completed"
     ]
    },
    {
     "name": "stdout",
     "output_type": "stream",
     "text": [
      "Saved data to C:\\Projects ML\\Stock_Predictor\\data\\TSLA_data.csv\n",
      "Price            Close        High         Low        Open     Volume\n",
      "Ticker            TSLA        TSLA        TSLA        TSLA       TSLA\n",
      "Date                                                                 \n",
      "2024-01-02  248.419998  251.250000  244.410004  250.080002  104654200\n",
      "2024-01-03  238.449997  245.679993  236.320007  244.979996  121082600\n",
      "2024-01-04  237.929993  242.699997  237.729996  239.250000  102629300\n",
      "2024-01-05  237.490005  240.119995  234.899994  236.860001   92488900\n",
      "2024-01-08  240.449997  241.250000  235.300003  236.139999   85166600\n"
     ]
    },
    {
     "name": "stderr",
     "output_type": "stream",
     "text": [
      "\n"
     ]
    }
   ],
   "source": [
    "import sys\n",
    "import os\n",
    "\n",
    "\n",
    "os.chdir(r\"C:\\Projects ML\\Stock_Predictor\")\n",
    "sys.path.append(os.path.abspath(\"..\"))  # Add project root to Python path\n",
    "\n",
    "from src.data_fetcher import fetch_stock_data\n",
    "\n",
    "data = fetch_stock_data(\"TSLA\", \"2024-01-01\", \"2025-01-01\")\n",
    "print(data.head())"
   ]
  },
  {
   "cell_type": "code",
   "execution_count": null,
   "id": "7063f92d",
   "metadata": {},
   "outputs": [
    {
     "name": "stdout",
     "output_type": "stream",
     "text": [
      "         Price       Close        High         Low        Open     Volume  \\\n",
      "12  2024-01-17  215.550003  215.669998  212.009995  214.860001  103164400   \n",
      "13  2024-01-18  211.880005  217.449997  208.740005  216.880005  108595400   \n",
      "14  2024-01-19  212.190002  213.190002  207.559998  209.990005  102260300   \n",
      "15  2024-01-22  208.800003  217.800003  206.270004  212.259995  117952500   \n",
      "16  2024-01-23  209.139999  215.649994  207.750000  211.300003  106605900   \n",
      "17  2024-01-24  207.830002  212.729996  206.770004  211.880005  123369900   \n",
      "18  2024-01-25  182.630005  193.000000  180.059998  189.699997  198076800   \n",
      "19  2024-01-26  183.250000  186.779999  182.100006  185.500000  107343200   \n",
      "20  2024-01-29  190.929993  191.479996  183.669998  185.630005  125013100   \n",
      "21  2024-01-30  191.589996  196.360001  190.610001  195.330002  109982300   \n",
      "\n",
      "      Return       SMA10  Volatility  High_Low_spread  Close_Open_change  \\\n",
      "12 -0.019826  230.479001    0.018118         3.660004           0.690002   \n",
      "13 -0.017026  227.822002    0.015722         8.709991          -5.000000   \n",
      "14  0.001463  225.248003    0.016005         5.630005           2.199997   \n",
      "15 -0.015976  222.379002    0.015702        11.529999          -3.459991   \n",
      "16  0.001628  219.248003    0.014062         7.899994          -2.160004   \n",
      "17 -0.006264  216.535002    0.013849         5.959991          -4.050003   \n",
      "18 -0.121253  211.404002    0.036836        12.940002          -7.069992   \n",
      "19  0.003395  207.007002    0.037748         4.679993          -2.250000   \n",
      "20  0.041910  204.211002    0.041971         7.809998           5.299988   \n",
      "21  0.003457  201.379001    0.041917         5.750000          -3.740005   \n",
      "\n",
      "    Return_1d      EMA_10                                      Volume_Change  \\\n",
      "12  -0.019826  228.816735  <bound method NDFrame.pct_change of 2      104...   \n",
      "13  -0.017026  225.737330  <bound method NDFrame.pct_change of 2      104...   \n",
      "14   0.001463  223.274179  <bound method NDFrame.pct_change of 2      104...   \n",
      "15  -0.015976  220.642511  <bound method NDFrame.pct_change of 2      104...   \n",
      "16   0.001628  218.551145  <bound method NDFrame.pct_change of 2      104...   \n",
      "17  -0.006264  216.601846  <bound method NDFrame.pct_change of 2      104...   \n",
      "18  -0.121253  210.425148  <bound method NDFrame.pct_change of 2      104...   \n",
      "19   0.003395  205.484212  <bound method NDFrame.pct_change of 2      104...   \n",
      "20   0.041910  202.837990  <bound method NDFrame.pct_change of 2      104...   \n",
      "21   0.003457  200.792900  <bound method NDFrame.pct_change of 2      104...   \n",
      "\n",
      "    Target  \n",
      "12       0  \n",
      "13       0  \n",
      "14       0  \n",
      "15       0  \n",
      "16       0  \n",
      "17       0  \n",
      "18       1  \n",
      "19       1  \n",
      "20       0  \n",
      "21       0  \n"
     ]
    }
   ],
   "source": [
    "from src.preprocessing import load_and_engineer_features\n",
    "\n",
    "df = load_and_engineer_features(\"data/TSLA_data.csv\")\n",
    "print(df.head())\n"
   ]
  },
  {
   "cell_type": "code",
   "execution_count": 3,
   "id": "eb249cb7",
   "metadata": {},
   "outputs": [
    {
     "name": "stdout",
     "output_type": "stream",
     "text": [
      "Model trained Successfully\n",
      "Accuracy:  0.297872\n",
      "\n",
      " Confusion Matrix:\n",
      "[[ 8  7]\n",
      " [26  6]]\n",
      "\n",
      " Classification Report:\n",
      "              precision    recall  f1-score   support\n",
      "\n",
      "           0       0.24      0.53      0.33        15\n",
      "           1       0.46      0.19      0.27        32\n",
      "\n",
      "    accuracy                           0.30        47\n",
      "   macro avg       0.35      0.36      0.30        47\n",
      "weighted avg       0.39      0.30      0.29        47\n",
      "\n"
     ]
    }
   ],
   "source": [
    "from src.model_training import train_model\n",
    "model, acc = train_model(\"data/AAPL_data.csv\")\n"
   ]
  },
  {
   "cell_type": "code",
   "execution_count": null,
   "id": "49d0b8d7",
   "metadata": {},
   "outputs": [],
   "source": []
  }
 ],
 "metadata": {
  "kernelspec": {
   "display_name": "venv",
   "language": "python",
   "name": "python3"
  },
  "language_info": {
   "codemirror_mode": {
    "name": "ipython",
    "version": 3
   },
   "file_extension": ".py",
   "mimetype": "text/x-python",
   "name": "python",
   "nbconvert_exporter": "python",
   "pygments_lexer": "ipython3",
   "version": "3.11.9"
  }
 },
 "nbformat": 4,
 "nbformat_minor": 5
}
