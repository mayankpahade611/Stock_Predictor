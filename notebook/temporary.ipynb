{
 "cells": [
  {
   "cell_type": "code",
   "execution_count": 1,
   "id": "fc4540dd",
   "metadata": {},
   "outputs": [
    {
     "name": "stderr",
     "output_type": "stream",
     "text": [
      "C:\\Projects ML\\Stock_Predictor\\src\\data_fetcher.py:7: FutureWarning: YF.download() has changed argument auto_adjust default to True\n",
      "  data = yf.download(symbol, start=start_date, end=end_date)\n",
      "[*********************100%***********************]  1 of 1 completed"
     ]
    },
    {
     "name": "stdout",
     "output_type": "stream",
     "text": [
      "Saved data to C:\\Projects ML\\Stock_Predictor\\data\\AAPL_data.csv\n",
      "Price            Close        High         Low        Open    Volume\n",
      "Ticker            AAPL        AAPL        AAPL        AAPL      AAPL\n",
      "Date                                                                \n",
      "2024-01-02  184.081512  186.858009  182.346204  185.578830  82488700\n",
      "2024-01-03  182.703201  184.319522  181.890078  182.673454  58414500\n",
      "2024-01-04  180.382812  181.552899  179.361461  180.620788  71983600\n",
      "2024-01-05  179.658951  181.225688  178.657435  180.462163  62379700\n",
      "2024-01-08  184.002182  184.041855  179.976269  180.561312  59144500\n"
     ]
    },
    {
     "name": "stderr",
     "output_type": "stream",
     "text": [
      "\n"
     ]
    }
   ],
   "source": [
    "import sys\n",
    "import os\n",
    "\n",
    "\n",
    "os.chdir(r\"C:\\Projects ML\\Stock_Predictor\")\n",
    "sys.path.append(os.path.abspath(\"..\"))  # Add project root to Python path\n",
    "\n",
    "from src.data_fetcher import fetch_stock_data\n",
    "\n",
    "data = fetch_stock_data(\"AAPL\", \"2024-01-01\", \"2025-01-01\")\n",
    "print(data.head())"
   ]
  },
  {
   "cell_type": "code",
   "execution_count": 2,
   "id": "7063f92d",
   "metadata": {},
   "outputs": [
    {
     "name": "stdout",
     "output_type": "stream",
     "text": [
      "         Price       Close        High         Low        Open     Volume  \\\n",
      "21  2024-01-30  186.461334  190.189777  185.896127  189.336997   55859400   \n",
      "22  2024-01-31  182.851883  185.529227  182.802315  185.469718   55467800   \n",
      "23  2024-02-01  185.291260  185.380501  182.276788  182.445359   64885400   \n",
      "24  2024-02-02  184.289734  185.757305  177.745137  178.350016  102551700   \n",
      "25  2024-02-05  186.104370  187.661197  184.279821  186.570426   69668800   \n",
      "\n",
      "      Return        MA10        MA20  Volatility  High_Low_spread  \\\n",
      "21 -0.019246  189.674141  186.313104    0.014680         4.293650   \n",
      "22 -0.019358  189.844696  186.251623    0.016116         2.726913   \n",
      "23  0.013341  189.669182  186.381026    0.012728         3.103713   \n",
      "24 -0.005405  189.102975  186.576372    0.011381         8.012168   \n",
      "25  0.009847  188.487190  186.898643    0.011058         3.381376   \n",
      "\n",
      "    Close_Open_change  Target  \n",
      "21          -2.875663       0  \n",
      "22          -2.617836       1  \n",
      "23           2.845901       0  \n",
      "24           5.939717       1  \n",
      "25          -0.466055       1  \n"
     ]
    }
   ],
   "source": [
    "from src.preprocessing import load_and_engineer_features\n",
    "\n",
    "df = load_and_engineer_features(\"data/AAPL_data.csv\")\n",
    "print(df.head())\n"
   ]
  },
  {
   "cell_type": "code",
   "execution_count": 3,
   "id": "eb249cb7",
   "metadata": {},
   "outputs": [
    {
     "name": "stdout",
     "output_type": "stream",
     "text": [
      "Model trained Successfully\n",
      "Accuracy:  0.340426\n"
     ]
    }
   ],
   "source": [
    "from src.model_training import train_model\n",
    "model, acc = train_model(\"data/AAPL_data.csv\")\n"
   ]
  },
  {
   "cell_type": "code",
   "execution_count": null,
   "id": "49d0b8d7",
   "metadata": {},
   "outputs": [],
   "source": []
  }
 ],
 "metadata": {
  "kernelspec": {
   "display_name": "venv",
   "language": "python",
   "name": "python3"
  },
  "language_info": {
   "codemirror_mode": {
    "name": "ipython",
    "version": 3
   },
   "file_extension": ".py",
   "mimetype": "text/x-python",
   "name": "python",
   "nbconvert_exporter": "python",
   "pygments_lexer": "ipython3",
   "version": "3.11.9"
  }
 },
 "nbformat": 4,
 "nbformat_minor": 5
}
