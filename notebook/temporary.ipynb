{
 "cells": [
  {
   "cell_type": "code",
   "execution_count": 6,
   "id": "fc4540dd",
   "metadata": {},
   "outputs": [
    {
     "name": "stderr",
     "output_type": "stream",
     "text": [
      "C:\\Projects ML\\Stock_Predictor\\src\\data_fetcher.py:7: FutureWarning: YF.download() has changed argument auto_adjust default to True\n",
      "  data = yf.download(symbol, start=start_date, end=end_date)\n",
      "[*********************100%***********************]  1 of 1 completed"
     ]
    },
    {
     "name": "stdout",
     "output_type": "stream",
     "text": [
      "Saved data to C:\\Projects ML\\Stock_Predictor\\data\\TSLA_data.csv\n",
      "Price            Close        High         Low        Open     Volume\n",
      "Ticker            TSLA        TSLA        TSLA        TSLA       TSLA\n",
      "Date                                                                 \n",
      "2024-01-02  248.419998  251.250000  244.410004  250.080002  104654200\n",
      "2024-01-03  238.449997  245.679993  236.320007  244.979996  121082600\n",
      "2024-01-04  237.929993  242.699997  237.729996  239.250000  102629300\n",
      "2024-01-05  237.490005  240.119995  234.899994  236.860001   92488900\n",
      "2024-01-08  240.449997  241.250000  235.300003  236.139999   85166600\n"
     ]
    },
    {
     "name": "stderr",
     "output_type": "stream",
     "text": [
      "\n"
     ]
    }
   ],
   "source": [
    "import sys\n",
    "import os\n",
    "\n",
    "\n",
    "os.chdir(r\"C:\\Projects ML\\Stock_Predictor\")\n",
    "sys.path.append(os.path.abspath(\"..\"))  # Add project root to Python path\n",
    "\n",
    "from src.data_fetcher import fetch_stock_data\n",
    "\n",
    "data = fetch_stock_data(\"TSLA\", \"2024-01-01\", \"2025-01-01\")\n",
    "print(data.head())"
   ]
  },
  {
   "cell_type": "code",
   "execution_count": 7,
   "id": "7063f92d",
   "metadata": {},
   "outputs": [
    {
     "name": "stdout",
     "output_type": "stream",
     "text": [
      "         Price       Close        High         Low        Open     Volume  \\\n",
      "12  2024-01-17  215.550003  215.669998  212.009995  214.860001  103164400   \n",
      "13  2024-01-18  211.880005  217.449997  208.740005  216.880005  108595400   \n",
      "14  2024-01-19  212.190002  213.190002  207.559998  209.990005  102260300   \n",
      "15  2024-01-22  208.800003  217.800003  206.270004  212.259995  117952500   \n",
      "16  2024-01-23  209.139999  215.649994  207.750000  211.300003  106605900   \n",
      "\n",
      "      Return       SMA10  Volatility  High_Low_spread  Close_Open_change  \\\n",
      "12 -0.019826  230.479001    0.018118         3.660004           0.690002   \n",
      "13 -0.017026  227.822002    0.015722         8.709991          -5.000000   \n",
      "14  0.001463  225.248003    0.016005         5.630005           2.199997   \n",
      "15 -0.015976  222.379002    0.015702        11.529999          -3.459991   \n",
      "16  0.001628  219.248003    0.014062         7.899994          -2.160004   \n",
      "\n",
      "    Return_1d      EMA_12      EMA_26      MACD  \\\n",
      "12  -0.019826  230.645488  237.807156 -7.161668   \n",
      "13  -0.017026  227.758491  235.886626 -8.128135   \n",
      "14   0.001463  225.363339  234.131321 -8.767982   \n",
      "15  -0.015976  222.815133  232.254927 -9.439794   \n",
      "16   0.001628  220.711266  230.542710 -9.831443   \n",
      "\n",
      "                                        Volume_Change  Target  \n",
      "12  <bound method NDFrame.pct_change of 2      104...       0  \n",
      "13  <bound method NDFrame.pct_change of 2      104...       0  \n",
      "14  <bound method NDFrame.pct_change of 2      104...       0  \n",
      "15  <bound method NDFrame.pct_change of 2      104...       0  \n",
      "16  <bound method NDFrame.pct_change of 2      104...       0  \n"
     ]
    }
   ],
   "source": [
    "from src.preprocessing import load_and_engineer_features\n",
    "\n",
    "df = load_and_engineer_features(\"data/TSLA_data.csv\")\n",
    "print(df.head())\n"
   ]
  },
  {
   "cell_type": "code",
   "execution_count": 9,
   "id": "eb249cb7",
   "metadata": {},
   "outputs": [
    {
     "name": "stdout",
     "output_type": "stream",
     "text": [
      "Fitting 3 folds for each of 15 candidates, totalling 45 fits\n",
      "\n",
      "Best parameters: {'subsample': 0.8, 'n_estimators': 100, 'min_child_weight': 1, 'max_depth': 5, 'learning_rate': 0.1, 'colsample_bytree': 0.8}\n",
      "Model trained Successfully\n",
      "Accuracy:  0.632653\n",
      "\n",
      " Confusion Matrix:\n",
      "[[ 9 10]\n",
      " [ 8 22]]\n",
      "\n",
      " Classification Report:\n",
      "              precision    recall  f1-score   support\n",
      "\n",
      "           0       0.53      0.47      0.50        19\n",
      "           1       0.69      0.73      0.71        30\n",
      "\n",
      "    accuracy                           0.63        49\n",
      "   macro avg       0.61      0.60      0.60        49\n",
      "weighted avg       0.63      0.63      0.63        49\n",
      "\n",
      "[0.06547944 0.09761063 0.06257092 0.05811908 0.06210962 0.08576731\n",
      " 0.08834039 0.05968814 0.07822936 0.06186052 0.09468538 0.10524156\n",
      " 0.08029761]\n"
     ]
    }
   ],
   "source": [
    "from src.model_training import train_model\n",
    "model, acc = train_model(\"data/AAPL_data.csv\")\n"
   ]
  },
  {
   "cell_type": "code",
   "execution_count": null,
   "id": "49d0b8d7",
   "metadata": {},
   "outputs": [],
   "source": []
  }
 ],
 "metadata": {
  "kernelspec": {
   "display_name": "venv",
   "language": "python",
   "name": "python3"
  },
  "language_info": {
   "codemirror_mode": {
    "name": "ipython",
    "version": 3
   },
   "file_extension": ".py",
   "mimetype": "text/x-python",
   "name": "python",
   "nbconvert_exporter": "python",
   "pygments_lexer": "ipython3",
   "version": "3.11.9"
  }
 },
 "nbformat": 4,
 "nbformat_minor": 5
}
