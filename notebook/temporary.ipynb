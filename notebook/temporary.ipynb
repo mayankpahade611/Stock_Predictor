{
 "cells": [
  {
   "cell_type": "code",
   "execution_count": 5,
   "id": "fc4540dd",
   "metadata": {},
   "outputs": [
    {
     "name": "stderr",
     "output_type": "stream",
     "text": [
      "C:\\Projects ML\\Stock_Predictor\\src\\data_fetcher.py:7: FutureWarning: YF.download() has changed argument auto_adjust default to True\n",
      "  data = yf.download(symbol, start=start_date, end=end_date)\n",
      "[*********************100%***********************]  1 of 1 completed"
     ]
    },
    {
     "name": "stdout",
     "output_type": "stream",
     "text": [
      "Saved data to C:\\Projects ML\\Stock_Predictor\\data\\AAPL_data.csv\n",
      "Price            Close        High         Low        Open    Volume\n",
      "Ticker            AAPL        AAPL        AAPL        AAPL      AAPL\n",
      "Date                                                                \n",
      "2024-01-02  184.081528  186.858024  182.346219  185.578846  82488700\n",
      "2024-01-03  182.703171  184.319491  181.890048  182.673424  58414500\n",
      "2024-01-04  180.382812  181.552899  179.361461  180.620788  71983600\n",
      "2024-01-05  179.658951  181.225688  178.657435  180.462163  62379700\n",
      "2024-01-08  184.002167  184.041839  179.976254  180.561297  59144500\n"
     ]
    },
    {
     "name": "stderr",
     "output_type": "stream",
     "text": [
      "\n"
     ]
    }
   ],
   "source": [
    "import sys\n",
    "import os\n",
    "\n",
    "\n",
    "os.chdir(r\"C:\\Projects ML\\Stock_Predictor\")\n",
    "sys.path.append(os.path.abspath(\"..\"))  # Add project root to Python path\n",
    "\n",
    "from src.data_fetcher import fetch_stock_data\n",
    "\n",
    "data = fetch_stock_data(\"AAPL\", \"2024-01-01\", \"2025-01-01\")\n",
    "print(data.head())"
   ]
  },
  {
   "cell_type": "code",
   "execution_count": 6,
   "id": "7063f92d",
   "metadata": {},
   "outputs": [
    {
     "name": "stdout",
     "output_type": "stream",
     "text": [
      "         Price       Close        High         Low        Open     Volume  \\\n",
      "21  2024-01-30  186.461365  190.189809  185.896158  189.337028   55859400   \n",
      "22  2024-01-31  182.851898  185.529243  182.802330  185.469734   55467800   \n",
      "23  2024-02-01  185.291275  185.380516  182.276803  182.445374   64885400   \n",
      "24  2024-02-02  184.289734  185.757305  177.745137  178.350016  102551700   \n",
      "25  2024-02-05  186.104370  187.661197  184.279821  186.570426   69668800   \n",
      "\n",
      "      Return        MA10        MA20  Volatility  ...  Return_3d  Return_7d  \\\n",
      "21 -0.019246  189.674149  186.313105    0.014680  ...  -0.031570  -0.018375   \n",
      "22 -0.019358  189.844702  186.251624    0.016116  ...  -0.041680  -0.048945   \n",
      "23  0.013341  189.669191  186.381029    0.012729  ...  -0.025400  -0.042627   \n",
      "24 -0.005405  189.102985  186.576375    0.011381  ...  -0.011647  -0.044473   \n",
      "25  0.009847  188.487198  186.898646    0.011058  ...   0.017787  -0.033424   \n",
      "\n",
      "        EMA_12      EMA_26      MACD   BB_Middle    BB_Upper    BB_Lower  \\\n",
      "21  188.707251  186.941308  1.765944  186.313105  195.309973  177.316237   \n",
      "22  187.806428  186.638388  1.168039  186.251624  195.329145  177.174102   \n",
      "23  187.419481  186.538602  0.880879  186.381029  195.318266  177.443791   \n",
      "24  186.937982  186.372019  0.565962  186.576375  195.123879  178.028870   \n",
      "25  186.809734  186.352194  0.457540  186.898646  194.810384  178.986908   \n",
      "\n",
      "                                        Volume_Change  Target  \n",
      "21  <bound method NDFrame.pct_change of 2      824...       0  \n",
      "22  <bound method NDFrame.pct_change of 2      824...       1  \n",
      "23  <bound method NDFrame.pct_change of 2      824...       1  \n",
      "24  <bound method NDFrame.pct_change of 2      824...       1  \n",
      "25  <bound method NDFrame.pct_change of 2      824...       1  \n",
      "\n",
      "[5 rows x 23 columns]\n"
     ]
    }
   ],
   "source": [
    "from src.preprocessing import load_and_engineer_features\n",
    "\n",
    "df = load_and_engineer_features(\"data/AAPL_data.csv\")\n",
    "print(df.head())\n"
   ]
  },
  {
   "cell_type": "code",
   "execution_count": 3,
   "id": "eb249cb7",
   "metadata": {},
   "outputs": [
    {
     "name": "stdout",
     "output_type": "stream",
     "text": [
      "Model trained Successfully\n",
      "Accuracy:  0.297872\n",
      "\n",
      " Confusion Matrix:\n",
      "[[ 8  7]\n",
      " [26  6]]\n",
      "\n",
      " Classification Report:\n",
      "              precision    recall  f1-score   support\n",
      "\n",
      "           0       0.24      0.53      0.33        15\n",
      "           1       0.46      0.19      0.27        32\n",
      "\n",
      "    accuracy                           0.30        47\n",
      "   macro avg       0.35      0.36      0.30        47\n",
      "weighted avg       0.39      0.30      0.29        47\n",
      "\n"
     ]
    }
   ],
   "source": [
    "from src.model_training import train_model\n",
    "model, acc = train_model(\"data/AAPL_data.csv\")\n"
   ]
  },
  {
   "cell_type": "code",
   "execution_count": null,
   "id": "49d0b8d7",
   "metadata": {},
   "outputs": [],
   "source": []
  }
 ],
 "metadata": {
  "kernelspec": {
   "display_name": "venv",
   "language": "python",
   "name": "python3"
  },
  "language_info": {
   "codemirror_mode": {
    "name": "ipython",
    "version": 3
   },
   "file_extension": ".py",
   "mimetype": "text/x-python",
   "name": "python",
   "nbconvert_exporter": "python",
   "pygments_lexer": "ipython3",
   "version": "3.11.9"
  }
 },
 "nbformat": 4,
 "nbformat_minor": 5
}
