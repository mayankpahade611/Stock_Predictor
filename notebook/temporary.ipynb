{
 "cells": [
  {
   "cell_type": "code",
   "execution_count": 9,
   "id": "fc4540dd",
   "metadata": {},
   "outputs": [
    {
     "name": "stderr",
     "output_type": "stream",
     "text": [
      "c:\\Projects ML\\Stock_Predictor\\src\\data_fetcher.py:6: FutureWarning: YF.download() has changed argument auto_adjust default to True\n",
      "  data = yf.download(symbol, start=start_date, end=end_date)\n",
      "[*********************100%***********************]  1 of 1 completed"
     ]
    },
    {
     "name": "stdout",
     "output_type": "stream",
     "text": [
      "Saved data to data/TSLA_data.csv\n",
      "Price            Close        High         Low        Open     Volume\n",
      "Ticker            TSLA        TSLA        TSLA        TSLA       TSLA\n",
      "Date                                                                 \n",
      "2024-01-02  248.419998  251.250000  244.410004  250.080002  104654200\n",
      "2024-01-03  238.449997  245.679993  236.320007  244.979996  121082600\n",
      "2024-01-04  237.929993  242.699997  237.729996  239.250000  102629300\n",
      "2024-01-05  237.490005  240.119995  234.899994  236.860001   92488900\n",
      "2024-01-08  240.449997  241.250000  235.300003  236.139999   85166600\n"
     ]
    },
    {
     "name": "stderr",
     "output_type": "stream",
     "text": [
      "\n"
     ]
    }
   ],
   "source": [
    "import sys\n",
    "import os\n",
    "\n",
    "\n",
    "os.chdir(r\"C:\\Projects ML\\Stock_Predictor\")\n",
    "sys.path.append(os.path.abspath(\"..\"))  # Add project root to Python path\n",
    "\n",
    "from src.data_fetcher import fetch_stock_data\n",
    "\n",
    "data = fetch_stock_data(\"TSLA\", \"2024-01-01\", \"2025-01-01\")\n",
    "print(data.head())"
   ]
  },
  {
   "cell_type": "code",
   "execution_count": null,
   "id": "7063f92d",
   "metadata": {},
   "outputs": [],
   "source": []
  },
  {
   "cell_type": "code",
   "execution_count": null,
   "id": "eb249cb7",
   "metadata": {},
   "outputs": [],
   "source": []
  },
  {
   "cell_type": "code",
   "execution_count": null,
   "id": "49d0b8d7",
   "metadata": {},
   "outputs": [],
   "source": []
  }
 ],
 "metadata": {
  "kernelspec": {
   "display_name": "venv",
   "language": "python",
   "name": "python3"
  },
  "language_info": {
   "codemirror_mode": {
    "name": "ipython",
    "version": 3
   },
   "file_extension": ".py",
   "mimetype": "text/x-python",
   "name": "python",
   "nbconvert_exporter": "python",
   "pygments_lexer": "ipython3",
   "version": "3.11.9"
  }
 },
 "nbformat": 4,
 "nbformat_minor": 5
}
